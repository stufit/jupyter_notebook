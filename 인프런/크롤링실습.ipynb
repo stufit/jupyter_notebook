{
 "cells": [
  {
   "cell_type": "code",
   "execution_count": 26,
   "metadata": {},
   "outputs": [
    {
     "name": "stdout",
     "output_type": "stream",
     "text": [
      "변 후보자는 허인회씨가 이사장으로 있던 태양광 업체 녹색드림협동조합과의 유착 의혹을 부인했다. 녹색드림협동조합은 2015년 서울주택도시공사(SH)에 태양광 미니발전소 25건을 기부한 뒤, 2016년 서울시 전체 태양광 미니발전소 보급 업체로 선정됐다. 이에 대해 야권은 ▶협약 체결 당시 기준, 녹색드림협동조합은 태양광 보급 실적이 한 건도 없었고 ▶다른 태양광 보급 업체와 맺은 협약은 언론에 공개하고 녹색드림협동조합과의 협약은 공개하지 않았다는 점을 문제 삼았다. \n"
     ]
    }
   ],
   "source": [
    "import requests\n",
    "from bs4 import BeautifulSoup\n",
    "\n",
    "res = requests.get('https://news.v.daum.net/v/20201219191528518')\n",
    "soup = BeautifulSoup(res.content, 'html.parser')\n",
    "mydata = soup.find(\"p\",attrs={'dmcf-pid':'AnH41D3T2k','dmcf-ptype':'general'})\n",
    "\n",
    "print(mydata.get_text())\n",
    "\n",
    "# for item in mydata:\n",
    "#     print(item.get_text())\n",
    "\n",
    "\n"
   ]
  },
  {
   "cell_type": "markdown",
   "metadata": {},
   "source": [
    "# 크롤링 후처리\n",
    "* \\n , 불필요한 데이터 삭제, 깔끔하게 문자열 정리"
   ]
  },
  {
   "cell_type": "markdown",
   "metadata": {},
   "source": [
    "# 실전 크롤링과 강력한 크롤링 기술 팁1(2020 업데이트)"
   ]
  },
  {
   "cell_type": "code",
   "execution_count": 29,
   "metadata": {},
   "outputs": [
    {
     "name": "stdout",
     "output_type": "stream",
     "text": [
      "(왕초보) - 클래스 소개\n",
      "(왕초보) - 블로그 개발 필요한 준비물 준비하기\n",
      "(왕초보) - Github pages 설정해서 블로그 첫 페이지 만들어보기\n",
      "(왕초보) - 초간단 페이지 만들어보기\n",
      "(왕초보) - 이쁘게 테마 적용해보기\n",
      "(왕초보) - 마크다운 기초 이해하고, 실제 나만의 블로그 페이지 만들기\n",
      "(왕초보) - 다양한 마크다운 기법 익혀보며, 나만의 블로그 페이지 꾸며보기\n",
      "(초급) - 강사가 실제 사용하는 자동 프로그램 소개 [2]\n",
      "(초급) - 필요한 프로그램 설치 시연 [5]\n",
      "(초급) - 데이터를 엑셀 파일로 만들기 [9]\n",
      "(초급) -     엑셀 파일 이쁘게! 이쁘게! [8]\n",
      "(초급) -     나대신 주기적으로 파이썬 프로그램 실행하기 [7]\n",
      "(초급) - 파이썬으로 슬랙(slack) 메신저에 글쓰기 [40]\n",
      "(초급) - 웹사이트 변경사항 주기적으로 체크해서, 메신저로 알람주기 [12]\n",
      "(초급) - 네이버 API 사용해서, 블로그에 글쓰기 [42]\n",
      "(중급) - 자동으로 쿠팡파트너스 API 로 가져온 상품 정보, 네이버 블로그/트위터에 홍보하기 [412]\n"
     ]
    }
   ],
   "source": [
    "import requests\n",
    "from bs4 import BeautifulSoup\n",
    "\n",
    "res = requests.get('https://davelee-fun.github.io/blog/crawl_test')\n",
    "soup = BeautifulSoup(res.content, 'html.parser')\n",
    "\n",
    "titles = soup.find_all('li','course')\n",
    "for title in titles:\n",
    "    print(title.get_text())"
   ]
  },
  {
   "cell_type": "code",
   "execution_count": 6,
   "metadata": {},
   "outputs": [
    {
     "name": "stdout",
     "output_type": "stream",
     "text": [
      "(초급) - 강사가 실제 사용하는 자동 프로그램 소개 [2]\n",
      "(초급) - 필요한 프로그램 설치 시연 [5]\n",
      "(초급) - 데이터를 엑셀 파일로 만들기 [9]\n",
      "(초급) -     엑셀 파일 이쁘게! 이쁘게! [8]\n",
      "(초급) -     나대신 주기적으로 파이썬 프로그램 실행하기 [7]\n",
      "(초급) - 파이썬으로 슬랙(slack) 메신저에 글쓰기 [40]\n",
      "(초급) - 웹사이트 변경사항 주기적으로 체크해서, 메신저로 알람주기 [12]\n",
      "(초급) - 네이버 API 사용해서, 블로그에 글쓰기 [42]\n",
      "(중급) - 자동으로 쿠팡파트너스 API 로 가져온 상품 정보, 네이버 블로그/트위터에 홍보하기 [412]\n"
     ]
    }
   ],
   "source": [
    "import requests\n",
    "from bs4 import BeautifulSoup\n",
    "\n",
    "res = requests.get('https://davelee-fun.github.io/blog/crawl_test')\n",
    "soup = BeautifulSoup(res.content, 'html.parser')\n",
    "\n",
    "section = soup.find('ul',id='dev_course_list')\n",
    "titles = section.find_all('li','course')\n",
    "for title in titles:\n",
    "    print(title.get_text())\n",
    "    "
   ]
  },
  {
   "cell_type": "code",
   "execution_count": 17,
   "metadata": {},
   "outputs": [
    {
     "name": "stdout",
     "output_type": "stream",
     "text": [
      " 강사가 실제 사용하는 자동 프로그램 소개 \n",
      " 필요한 프로그램 설치 시연 \n",
      " 데이터를 엑셀 파일로 만들기 \n",
      "     엑셀 파일 이쁘게! 이쁘게! \n",
      "     나대신 주기적으로 파이썬 프로그램 실행하기 \n",
      " 파이썬으로 슬랙(slack) 메신저에 글쓰기 \n",
      " 웹사이트 변경사항 주기적으로 체크해서, 메신저로 알람주기 \n",
      " 네이버 API 사용해서, 블로그에 글쓰기 \n",
      " 자동으로 쿠팡파트너스 API 로 가져온 상품 정보, 네이버 블로그/트위터에 홍보하기 \n"
     ]
    }
   ],
   "source": [
    "# split 사용해서 리스트로 구분한 후 필요없는 것 빼버리기\n",
    "import requests\n",
    "from bs4 import BeautifulSoup\n",
    "\n",
    "res = requests.get('https://davelee-fun.github.io/blog/crawl_test')\n",
    "soup = BeautifulSoup(res.content, 'html.parser')\n",
    "\n",
    "section = soup.find('ul',id='dev_course_list')\n",
    "titles = section.find_all('li','course')\n",
    "for title in titles:\n",
    "    print(title.get_text().split('-')[1].split('[')[0])   "
   ]
  },
  {
   "cell_type": "code",
   "execution_count": 21,
   "metadata": {},
   "outputs": [
    {
     "name": "stdout",
     "output_type": "stream",
     "text": [
      "강사가 실제 사용하는 자동 프로그램 소개\n",
      "필요한 프로그램 설치 시연\n",
      "데이터를 엑셀 파일로 만들기\n",
      "엑셀 파일 이쁘게! 이쁘게!\n",
      "나대신 주기적으로 파이썬 프로그램 실행하기\n",
      "파이썬으로 슬랙(slack) 메신저에 글쓰기\n",
      "웹사이트 변경사항 주기적으로 체크해서, 메신저로 알람주기\n",
      "네이버 API 사용해서, 블로그에 글쓰기\n",
      "자동으로 쿠팡파트너스 API 로 가져온 상품 정보, 네이버 블로그/트위터에 홍보하기\n"
     ]
    }
   ],
   "source": [
    "# 공백 앞으로 땡기기(strip())\n",
    "import requests\n",
    "from bs4 import BeautifulSoup\n",
    "\n",
    "res = requests.get('https://davelee-fun.github.io/blog/crawl_test')\n",
    "soup = BeautifulSoup(res.content, 'html.parser')\n",
    "\n",
    "section = soup.find('ul',id='dev_course_list')\n",
    "titles = section.find_all('li','course')\n",
    "for title in titles:\n",
    "    print(title.get_text().split('-')[1].split('[')[0].strip())"
   ]
  },
  {
   "cell_type": "code",
   "execution_count": 25,
   "metadata": {},
   "outputs": [
    {
     "name": "stdout",
     "output_type": "stream",
     "text": [
      "1. 강사가 실제 사용하는 자동 프로그램 소개\n",
      "2. 필요한 프로그램 설치 시연\n",
      "3. 데이터를 엑셀 파일로 만들기\n",
      "4. 엑셀 파일 이쁘게! 이쁘게!\n",
      "5. 나대신 주기적으로 파이썬 프로그램 실행하기\n",
      "6. 파이썬으로 슬랙(slack) 메신저에 글쓰기\n",
      "7. 웹사이트 변경사항 주기적으로 체크해서, 메신저로 알람주기\n",
      "8. 네이버 API 사용해서, 블로그에 글쓰기\n",
      "9. 자동으로 쿠팡파트너스 API 로 가져온 상품 정보, 네이버 블로그/트위터에 홍보하기\n"
     ]
    }
   ],
   "source": [
    "# 인덱스 붙이기\n",
    "import requests\n",
    "from bs4 import BeautifulSoup\n",
    "\n",
    "res = requests.get('https://davelee-fun.github.io/blog/crawl_test')\n",
    "soup = BeautifulSoup(res.content, 'html.parser')\n",
    "\n",
    "section = soup.find('ul',id='dev_course_list')\n",
    "titles = section.find_all('li','course')\n",
    "for index, title in enumerate(titles):\n",
    "    print(str(index+1)+'.',title.get_text().split('-')[1].split('[')[0].strip())"
   ]
  },
  {
   "cell_type": "markdown",
   "metadata": {},
   "source": [
    "# CSS selector 사용해서 크롤링하기1(2020 업데이트)"
   ]
  },
  {
   "cell_type": "code",
   "execution_count": 29,
   "metadata": {},
   "outputs": [
    {
     "name": "stdout",
     "output_type": "stream",
     "text": [
      "(왕초보) - 클래스 소개\n",
      "(왕초보) - 블로그 개발 필요한 준비물 준비하기\n",
      "(왕초보) - Github pages 설정해서 블로그 첫 페이지 만들어보기\n",
      "(왕초보) - 초간단 페이지 만들어보기\n",
      "(왕초보) - 이쁘게 테마 적용해보기\n",
      "(왕초보) - 마크다운 기초 이해하고, 실제 나만의 블로그 페이지 만들기\n",
      "(왕초보) - 다양한 마크다운 기법 익혀보며, 나만의 블로그 페이지 꾸며보기\n",
      "(초급) - 강사가 실제 사용하는 자동 프로그램 소개 [2]\n",
      "(초급) - 필요한 프로그램 설치 시연 [5]\n",
      "(초급) - 데이터를 엑셀 파일로 만들기 [9]\n",
      "(초급) -     엑셀 파일 이쁘게! 이쁘게! [8]\n",
      "(초급) -     나대신 주기적으로 파이썬 프로그램 실행하기 [7]\n",
      "(초급) - 파이썬으로 슬랙(slack) 메신저에 글쓰기 [40]\n",
      "(초급) - 웹사이트 변경사항 주기적으로 체크해서, 메신저로 알람주기 [12]\n",
      "(초급) - 네이버 API 사용해서, 블로그에 글쓰기 [42]\n",
      "(중급) - 자동으로 쿠팡파트너스 API 로 가져온 상품 정보, 네이버 블로그/트위터에 홍보하기 [412]\n"
     ]
    }
   ],
   "source": [
    "from bs4 import BeautifulSoup\n",
    "import requests\n",
    "\n",
    "res = requests.get('https://davelee-fun.github.io/blog/crawl_test_css.html')\n",
    "soup = BeautifulSoup(res.content,'html.parser')\n",
    "items = soup.select('ul a')  # css 에서는 find 대신 select 를 써준다\n",
    "for item in items:\n",
    "    print(item.get_text())"
   ]
  },
  {
   "cell_type": "code",
   "execution_count": null,
   "metadata": {},
   "outputs": [],
   "source": [
    "from bs4 import BeautifulSoup\n",
    "import requests\n",
    "\n",
    "res = requests.get('https://davelee-fun.github.io/blog/crawl_test_css.html')\n",
    "soup = BeautifulSoup(res.content,'html.parser')\n",
    "items = soup.select('.course')  # class 는 . , id는 #으로 표기\n",
    "for item in items:\n",
    "    print(item.get_text())"
   ]
  },
  {
   "cell_type": "code",
   "execution_count": 30,
   "metadata": {},
   "outputs": [
    {
     "name": "stdout",
     "output_type": "stream",
     "text": [
      "(왕초보) - 클래스 소개\n",
      "(왕초보) - 블로그 개발 필요한 준비물 준비하기\n",
      "(왕초보) - Github pages 설정해서 블로그 첫 페이지 만들어보기\n",
      "(왕초보) - 초간단 페이지 만들어보기\n",
      "(왕초보) - 이쁘게 테마 적용해보기\n",
      "(왕초보) - 마크다운 기초 이해하고, 실제 나만의 블로그 페이지 만들기\n",
      "(왕초보) - 다양한 마크다운 기법 익혀보며, 나만의 블로그 페이지 꾸며보기\n"
     ]
    }
   ],
   "source": [
    "from bs4 import BeautifulSoup\n",
    "import requests\n",
    "\n",
    "res = requests.get('https://davelee-fun.github.io/blog/crawl_test_css.html')\n",
    "soup = BeautifulSoup(res.content,'html.parser')\n",
    "items = soup.select('ul#hobby_course_list li.course')  \n",
    "for item in items:\n",
    "    print(item.get_text())"
   ]
  },
  {
   "cell_type": "code",
   "execution_count": 31,
   "metadata": {},
   "outputs": [
    {
     "name": "stdout",
     "output_type": "stream",
     "text": [
      "(중급) - 자동으로 쿠팡파트너스 API 로 가져온 상품 정보, 네이버 블로그/트위터에 홍보하기 [412]\n"
     ]
    }
   ],
   "source": [
    "from bs4 import BeautifulSoup\n",
    "import requests\n",
    "\n",
    "res = requests.get('https://davelee-fun.github.io/blog/crawl_test_css.html')\n",
    "soup = BeautifulSoup(res.content,'html.parser')\n",
    "items = soup.select('ul#dev_course_list > li.course.paid')  \n",
    "for item in items:\n",
    "    print(item.get_text())"
   ]
  },
  {
   "cell_type": "code",
   "execution_count": 45,
   "metadata": {},
   "outputs": [],
   "source": [
    "from bs4 import BeautifulSoup\n",
    "import requests\n",
    "\n",
    "res = requests.get('https://davelee-fun.github.io/blog/crawl_test_css.html')\n",
    "soup = BeautifulSoup(res.content,'html.parser')\n",
    "items = soup.select('a.keyword span.txt ')  \n",
    "for item in items:\n",
    "    print(item.get_text())\n"
   ]
  },
  {
   "cell_type": "code",
   "execution_count": 46,
   "metadata": {},
   "outputs": [
    {
     "name": "stdout",
     "output_type": "stream",
     "text": [
      "(중급) - 자동으로 쿠팡파트너스 API 로 가져온 상품 정보, 네이버 블로그/트위터에 홍보하기 [412]\n"
     ]
    }
   ],
   "source": [
    "# select_one 사용\n",
    "from bs4 import BeautifulSoup\n",
    "import requests\n",
    "res = requests.get('https://davelee-fun.github.io/blog/crawl_test_css.html')\n",
    "soup = BeautifulSoup(res.content,'html.parser')\n",
    "items = soup.select_one('ul#dev_course_list > li.course.paid')  \n",
    "print(items.get_text())\n"
   ]
  },
  {
   "cell_type": "code",
   "execution_count": 51,
   "metadata": {},
   "outputs": [
    {
     "name": "stdout",
     "output_type": "stream",
     "text": [
      "일정, 커리큘럼 타이틀, 난이도\n",
      "5.1 ~ 6.15, 나만의 엣지있는 블로그 사이트 만들기 (취미로 익히는 IT), 초급\n",
      "6.16 ~ 7.31, 파이썬과 데이터과학 첫걸음 (IT 기본기 익히기), 중급\n"
     ]
    }
   ],
   "source": [
    "from bs4 import BeautifulSoup\n",
    "import requests\n",
    "res = requests.get('https://davelee-fun.github.io/blog/crawl_html_css.html')\n",
    "soup = BeautifulSoup(res.content,'html.parser')\n",
    "items = soup.find_all('tr')  \n",
    "for item in items:\n",
    "    columns = item.select('td')\n",
    "    row_str=''\n",
    "    for column in columns:\n",
    "        row_str += ', '+column.get_text()\n",
    "    print(row_str[2:])\n",
    "        "
   ]
  },
  {
   "cell_type": "code",
   "execution_count": 3,
   "metadata": {},
   "outputs": [
    {
     "name": "stdout",
     "output_type": "stream",
     "text": [
      "페이지 없음\n"
     ]
    }
   ],
   "source": [
    "import requests\n",
    "from bs4 import BeautifulSoup\n",
    "\n",
    "res = requests.get('https://davelee-fun.github.io/xxx')\n",
    "\n",
    "if res.status_code != 200:\n",
    "    print('페이지 없음')\n",
    "else:\n",
    "    soup = BeautifulSoup(res.content, 'html.parser')\n",
    "    \n",
    "    data = soup.select('h4.card-text')\n",
    "    for item in data:\n",
    "        print(item.get_text())"
   ]
  },
  {
   "cell_type": "markdown",
   "metadata": {},
   "source": [
    "# 여러 페이지 한번에 크롤링"
   ]
  },
  {
   "cell_type": "code",
   "execution_count": 6,
   "metadata": {},
   "outputs": [
    {
     "name": "stdout",
     "output_type": "stream",
     "text": [
      "상품명: 보몽드 순면스퀘어 솔리드 누빔매트커버, 다크블루\n",
      "상품명: 슈에뜨룸 선인장 리플 침구 세트, 베이지\n",
      "상품명: 선우랜드 레인보우 2단 문걸이용 옷걸이 _중형, 화이트, 상세페이지참조\n",
      "상품명: 보드래 헬로우 누빔 매트리스커버, 핑크\n",
      "상품명: 보드래 퍼펙트 누빔 매트리스커버, 차콜\n",
      "상품명: 피아블 클래식 방수 매트리스커버, 화이트\n",
      "상품명: 더자리 에코항균 마이크로 매트리스커버, 밀키차콜그레이\n",
      "상품명: 더자리 프레쉬 퓨어 매트리스 커버, 퓨어 차콜그레이\n",
      "상품명: 몽쉐어 알러스킨 항균 매트리스 커버, 카키그레이\n",
      "상품명: 쿠팡 브랜드 - 코멧 홈 40수 트윌 순면 100% 홑겹 매트리스커버, 그레이\n",
      "상품명: 패브릭아트 항균 마이크로 원단 매트리스 커버, 아이보리\n",
      "상품명: 바숨 순면 누빔 침대 매트리스커버, 차콜\n",
      "상품명: WEMAX 다용도 문옷걸이, 화이트, 1개\n",
      "상품명: 타카타카 프리미엄 나노 화이바 누빔 매트리스 커버, 젠틀핑핑\n",
      "상품명: 보몽드 순면스퀘어 누빔매트커버, 다크그레이\n",
      "상품명: 보드래 국내산 순면 60수 누빔 매트리스커버, 그레이\n",
      "상품명: 보드래 퍼펙트 누빔 매트리스커버, 베이지핑크\n",
      "상품명: 쿠팡 브랜드 - 코멧 홈 40수 순면 누빔 매트리스커버, 챠콜\n",
      "상품명: 바숨 순면 누빔 침대 매트리스커버, 화이트\n",
      "상품명: 프랑떼 항균 방수 매트리스커버, 화이트\n",
      "상품명: 보몽드 순면스퀘어 솔리드 누빔매트커버, 다크블루\n",
      "상품명: 네이쳐리빙 피아블 클래식 방수 매트리스커버, 그레이\n",
      "상품명: 쿠팡 브랜드 - 코멧 홈 순면 매트리스커버, 베이지\n",
      "상품명: 타카타카 프리미엄 나노 화이바 누빔 매트리스 커버, 프렌치불독\n",
      "상품명: 더자리 에코항균 마이크로 매트리스커버, 밀키그레이\n",
      "상품명: 보몽드 순면스퀘어 누빔매트커버, 화이트\n",
      "상품명: 피아블 클래식 방수 매트리스커버, 화이트\n",
      "상품명: 쿠팡 브랜드 - 코멧 홈 순면 매트리스커버, 차콜그레이\n",
      "상품명: 쉬즈홈 모던그리드 순면 여름이불 베개커버 패드세트, 핑크\n",
      "상품명: 스코홈 빅리플 여름 차렵이불패드 3종 세트, 마린그레이\n",
      "상품명: 아망떼 시어서커 리플 홑이불 패드세트, 웨이크\n",
      "상품명: 마이센스 무더운 여름엔 시어서커 여름이불 패드 베개 이불세트 30종, 시어서커_파스텔그레이\n",
      "상품명: 믹스앤매치 로라 프릴 시어서커 침구세트, 그레이\n",
      "상품명: 에피소드1 샤베트 프릴 시어서커 여름이불패드세트, 그레이\n",
      "상품명: 슈에뜨룸 선인장 리플 침구 세트, 베이지\n",
      "상품명: 아망떼 시어서커 리플 홑이불 패드세트, 허브티\n",
      "상품명: 지베딩 아이스베어 시어서커 여름침구 풀세트, 민트그레이\n",
      "상품명: 쁘리엘르 테스 시어서커 여름이불 패드세트, 그레이\n",
      "상품명: 쉬즈홈 시어서커 홑이불 + 토퍼 + 베개커버 세트, 나나 옐로우\n",
      "상품명: 아망떼 시어서커 리플 퀼팅 이불패드세트, 리엔나\n",
      "상품명: 바자르 트로피컬 인견 여름 이불세트 인견이불 + 베개커버 2p + 인견패드, 그린\n",
      "상품명: 바자르 라이닝 혼방 인견 여름 이불베개세트 + 패드 Q, 쿨 네이비\n",
      "상품명: 슈에뜨룸 비숑 피치스킨 침구세트, 그레이\n",
      "상품명: 스코홈 시어서커 여름 이불 패드 3종 세트, 차콜\n",
      "상품명: 스코홈 어번시리즈 순면 차렵이불 누빔 매트커버세트 S 차콜\n",
      "상품명: 쉬즈홈 루즈 시어서커 차렵이불 패드세트, 그레이\n",
      "상품명: 예가로드 메리엘 시어서커 누비이불 패드세트, 블루\n",
      "상품명: 에피소드1 샤베트 프릴 시어서커 여름이불패드세트, 화이트\n",
      "상품명: 쉬즈홈 플루 시어서커 차렵이불 패드세트, 그린\n",
      "상품명: 메종 레이스 차렵 이불 세트, 블루\n",
      "상품명: 믹스앤매치 로라 프릴 시어서커 침구세트, 그린\n",
      "상품명: 슈에뜨룸 발그레 피치 리플 침구 세트, 혼합 색상\n",
      "상품명: 보몽드 메종 레이스 차렵이불 3종 세트, 민트\n",
      "상품명: 슈에뜨룸 체크 피치스킨 침구세트, 모카\n",
      "상품명: 메리엘 시어서커 에어리플 이불세트, 그레이\n",
      "상품명: 슈에뜨룸 빠삐용 시어서커 침구세트, 네이비\n",
      "상품명: 믹스앤매치 에이프릴 리플 누비이불 패드세트, 화이트\n",
      "상품명: 쉬즈홈 시어서커 홑이불 토퍼세트, 루즈 그레이\n",
      "상품명: 이코디 5단 엔틱 도어 행거, 브라운, 1개\n",
      "상품명: 선우랜드 우드볼 도어훅 4구, 실버, 1개\n",
      "상품명: 리은상점 다용도 도어훅 문걸이 행거 모자걸이 머플러 목도리 걸이, 화이트, 5개\n",
      "상품명: 퍼니스코 다용도걸이 모자걸이 가방걸이 도어훅 도어행거 문걸이, 엔틱브라운, 1세트\n",
      "상품명: 스텐 도어후크 옷걸이/도어훅 문옷걸이 행거 바지걸이, 혼합 색상, 1개\n",
      "상품명: 디비플러스 키펙스 컬러 폭조절 오버 도어훅, 블랙, 1개\n",
      "상품명: 리빙스토리 1+1 문에 거는 문 옷걸이 음자리 도어후크 방문 행거, 음자리도어후크-로즈골드, 2개\n",
      "상품명: 나이스후크 도어행거 2개 세트 (문행거), 블랙+화이트\n",
      "상품명: 리빙파이 도어훅 옷걸이 행거 7구, 블랙, 1개\n",
      "상품명: 선우랜드 우드볼 도어훅 10구, 실버, 1개\n",
      "상품명: 웰렉스 도어행거 MH1060 신형 본사직발송 미니건조대 도어옷걸이 도어훅, 고동색, 1개\n",
      "상품명: 엔비 엔틱 7구 도어훅 옷걸이, 도어훅 1+1, 1+1\n",
      "상품명: 코시나 무타공 문걸이 후크선반 1단, 화이트, 1개\n",
      "상품명: 코시나 무타공 올스텐 문걸이행거, 혼합 색상, 1개\n",
      "상품명: [아트박스 POOM/이케아] ENUDDEN 도어 행거, 본품, 수량\n",
      "상품명: 비스비바 우드 폴 다용도걸이 3구, 혼합 색상, 1개\n",
      "상품명: 숲속애 웨이브 도어후크 5구, 블랙, 1개\n",
      "상품명: 펀타스틱 다용도 문틀걸이, 화이트, 1개\n",
      "상품명: 선우랜드 우드볼 도어훅 4구, 화이트, 1개\n",
      "상품명: 네이쳐리빙 어반모카 와이어 도어훅 옷걸이 6구, 단일 색상, 1개\n",
      "상품명: 까사마루 블랑 접이식 문걸이 건조대, 1개\n",
      "상품명: 선우랜드 우드볼 도어훅 6구, 실버, 1개\n",
      "상품명: 이케아 ENUDDEN 문걸이 행거 402.516.66, 화이트, 1개\n",
      "상품명: 선우랜드 우드볼 도어훅 10구, 화이트, 1개\n",
      "상품명: 코멧 홈 우드볼 도어행거, 6구, 혼합색상\n",
      "상품명: 선우랜드 레인보우 2단 문걸이용 옷걸이 _중형, 화이트, 상세페이지참조\n",
      "상품명: 코시나 무타공 문걸이 후크선반 2단, 화이트, 1개\n",
      "상품명: 스파이더락 도어후크 8구, 화이트, 1개\n",
      "상품명: 선우랜드 우드볼 도어훅 6구, 화이트, 1개\n",
      "상품명: 코멧 홈 우드볼 도어행거, 10구, 혼합색상\n",
      "상품명: 보드래 헬로우 누빔 매트리스커버, 핑크\n",
      "상품명: 보몽드 순면스퀘어 솔리드 누빔매트커버, 아이보리\n",
      "상품명: 더자리 에코항균 마이크로 매트리스커버, 밀키핑크\n",
      "상품명: 타카타카 프리미엄 나노 화이바 누빔 매트리스 커버, 미스밍고\n",
      "상품명: 네이쳐리빙 피아블 클래식 방수 매트리스커버, 그레이\n",
      "상품명: 프로텍트어베드 베이직 매트리스 방수커버, 그레이\n"
     ]
    }
   ],
   "source": [
    "import requests\n",
    "from bs4 import BeautifulSoup\n",
    "\n",
    "for page_num in range(10):\n",
    "    if page_num == 0:\n",
    "        res = requests.get('https://davelee-fun.github.io')\n",
    "    else:\n",
    "        res = requests.get('https://davelee-fun.github.io/page'+str(page_num +1))\n",
    "        \n",
    "    soup = BeautifulSoup(res.content,'html.parser')    \n",
    "    \n",
    "    data = soup.select('h4.card-text')\n",
    "    \n",
    "    for item in data:\n",
    "        print(item.get_text().strip())"
   ]
  },
  {
   "cell_type": "markdown",
   "metadata": {},
   "source": [
    "# 엑셀로 저장하기"
   ]
  },
  {
   "cell_type": "code",
   "execution_count": 11,
   "metadata": {},
   "outputs": [],
   "source": [
    "import openpyxl"
   ]
  },
  {
   "cell_type": "code",
   "execution_count": 15,
   "metadata": {},
   "outputs": [],
   "source": [
    "def write_excel_template(filename, sheetname, listsdata):\n",
    "    excel_file = openpyxl.Workbook()\n",
    "    excel_sheet = excel_file.active\n",
    "    excel_sheet.column_dimensions['A'].width = 100\n",
    "    \n",
    "    if sheetname !='.':\n",
    "        excel_sheet.title = sheetname\n",
    "        \n",
    "    for item in listsdata:\n",
    "        excel_sheet.append(item)\n",
    "    excel_file.save(filename)\n",
    "    excel_file.close"
   ]
  },
  {
   "cell_type": "code",
   "execution_count": 16,
   "metadata": {},
   "outputs": [],
   "source": [
    "import requests\n",
    "from bs4 import BeautifulSoup\n",
    "\n",
    "product_lists = list()\n",
    "\n",
    "for page_num in range(10):\n",
    "    if page_num == 0:\n",
    "        res = requests.get('https://davelee-fun.github.io')\n",
    "    else:\n",
    "        res = requests.get('https://davelee-fun.github.io/page'+str(page_num +1))\n",
    "        \n",
    "    soup = BeautifulSoup(res.content,'html.parser')    \n",
    "    \n",
    "    data = soup.select('div.card')\n",
    "    \n",
    "    for item in data:\n",
    "        product_name = item.select_one('div.card-body h4.card-text')\n",
    "        product_date = item.select_one('div.wrapfooter span.post-date')\n",
    "        product_info = [product_name.get_text().strip(), product_date.get_text()]\n",
    "        product_lists.append(product_info)"
   ]
  },
  {
   "cell_type": "code",
   "execution_count": 17,
   "metadata": {},
   "outputs": [],
   "source": [
    "write_excel_template('tmp.xlsx','상품정보',product_lists)"
   ]
  },
  {
   "cell_type": "code",
   "execution_count": null,
   "metadata": {},
   "outputs": [],
   "source": []
  }
 ],
 "metadata": {
  "kernelspec": {
   "display_name": "Python 3",
   "language": "python",
   "name": "python3"
  },
  "language_info": {
   "codemirror_mode": {
    "name": "ipython",
    "version": 3
   },
   "file_extension": ".py",
   "mimetype": "text/x-python",
   "name": "python",
   "nbconvert_exporter": "python",
   "pygments_lexer": "ipython3",
   "version": "3.8.3"
  }
 },
 "nbformat": 4,
 "nbformat_minor": 4
}

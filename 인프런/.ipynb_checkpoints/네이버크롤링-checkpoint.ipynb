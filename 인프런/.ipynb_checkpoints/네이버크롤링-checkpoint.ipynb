{
 "cells": [
  {
   "cell_type": "code",
   "execution_count": 2,
   "metadata": {},
   "outputs": [
    {
     "name": "stdout",
     "output_type": "stream",
     "text": [
      "크리스마스 트리\n",
      "헤드셋\n",
      "면도기\n",
      "닌텐도 스위치\n",
      "롱패딩\n",
      "KF94 마스크\n",
      "홍게살\n",
      "에어팟 프로\n",
      "가습기\n",
      "여성 롱패딩\n"
     ]
    }
   ],
   "source": [
    "import requests\n",
    "from bs4 import BeautifulSoup\n",
    "\n",
    "res =requests.get('https://search.shopping.naver.com/best100v2/main.nhn')\n",
    "soup = BeautifulSoup(res.content,'html.parser')\n",
    "data = soup.select('#popular_srch_lst > li > span.txt > a')\n",
    "for item in data:\n",
    "    print(item.get_text())\n"
   ]
  },
  {
   "cell_type": "code",
   "execution_count": 5,
   "metadata": {},
   "outputs": [
    {
     "name": "stdout",
     "output_type": "stream",
     "text": [
      "1 지오다노 어니언 퀄팅 경량다운 자켓 37090...\n",
      "2 나이키 NSW 기모 조거팬츠 트레이닝바지 츄...\n",
      "3 달콤한레드 스윗드림 신혼부부 파자마 수면...\n",
      "4 내셔널지오그래픽 카이만3 구스다운 롱패딩...\n",
      "5 지오다노 여 에코다운 숏푸파 패딩 370921\n",
      "6 뉴발란스 남여공용 UNI 액티브 구스 숏 다운...\n",
      "7 순면 기모 체크 커플 파자마 잠옷 홈웨어\n",
      "8 지오지아 폭스퍼 후드 롱 다운 AEA4FP1101\n",
      "9 에고이스트 폭스퍼 스모킹 WAIST 벨티드 다...\n",
      "10 내셔널지오그래픽 카이만S RDS 구스 다운 벤...\n",
      "11 폴햄 여성 기모 조거 트레이닝 팬츠 PHA4PT...\n",
      "12 데상트 남여공용 캐논 구스 롱패딩 S9323SD...\n",
      "13 남성 극세사 수면잠옷세트 겨울잠옷 밍크잠...\n",
      "14 내셔널지오그래픽 카이만 3 구스 다운 롱패...\n",
      "15 폴로랄프로렌 남녀공용 하프집업 니트 맨투...\n",
      "16 지오다노 여 브러시드 테리 조거 팬츠 4109...\n",
      "17 노스페이스화이트라벨 공용 알칸 티볼 자켓...\n",
      "18 에고이스트 사가퍼 라그랑 볼륨 구스 숏 다...\n",
      "19 자체제작 하트베리 피치기모 파자마 3coor\n",
      "20 휠라 크레마 보아 플리스 자켓 FS2PLC4101X\n",
      "21 보들 따뜻 극세사 수면 커플 잠옷 세트\n",
      "22 뉴발란스 여성 연아 구스 맥시 퍼 다운 라이...\n",
      "23 지오다노 브러시드 맨투맨 320930\n",
      "24 남자 9부 겨울 기모 면 스판 치노 슬랙스 밴...\n",
      "25 지오다노 공용 코튼 져지 크루넥 3PCS 패키...\n",
      "26 반에이크 데일리패치언발기모조거팬츠 VB0Z...\n",
      "27 클라이드앤 여성 폭스퍼 롱패딩 FJDDU953F\n",
      "28 지오다노 여 초경량 퀼팅 379902\n",
      "29 스튜디오톰보이 레글런 슬리브 롱 퀄팅점퍼...\n",
      "30 안파 고급 실크 커플잠옷 ANPA03\n",
      "31 테이트 2020가을 남여공용 브이넥 경량 덕다...\n",
      "32 뉴발란스 공용 액티브 구스 롱다운 NBNP843...\n",
      "33 지오지아 남성용 히든 사이드 슬릿 구스다운...\n",
      "34 스윗베어 곰돌이 캐릭터 순면 커플 잠옷 파...\n",
      "35 마이워니 여성 융기모 슬랙스 팬츠 겨울 방...\n",
      "36 지오다노 여 브러시드 T R 슬림핏 슬랙스 0...\n",
      "37 나이키 기모안감 맨투맨 NSW 클럽 플리스 크...\n",
      "38 지오다노 여 울 블레이저 370910\n",
      "39 기모 레터링 패치 스트링 언발 밴딩 조거팬...\n",
      "40 안파 체크 파자마 커플잠옷\n",
      "41 자라 숏패딩 푸퍼 점퍼 4341202\n",
      "42 앤드지 프리미엄 푸퍼 숏다운 점퍼 BZA4JP1...\n",
      "43 기모 밴딩 카모 스판 조거팬츠\n",
      "44 코듀로이 골덴 벨벳와이드 겨울 밴딩팬츠 고...\n",
      "45 폴로랄프로렌 남녀공용 라운드넥 꽈배기 니...\n",
      "46 폴로랄프로렌 여성 베이직 코튼 브이넥 꽈배...\n",
      "47 더아이잗 리버시블 롱 무스탕 ik9a3fs04\n",
      "48 더뽐 무릎 안나오는 부드러운 골지 조거팬츠\n",
      "49 안파 타탄체크 겨울잠옷 커플파자마\n",
      "50 기모 여성 조거 맨투맨 트레이닝 세트 상하...\n",
      "51 노스페이스화이트라벨 남녀공용 익스플로링...\n",
      "52 AND 아뜰리에 1st 호주산 양모 100\n",
      "53 속옷미인 피치기모 플라워피치기모 세트 여...\n",
      "54 오조이 골덴 밍크 융기모 스판 완전 따숩 밴...\n",
      "55 캘빈클라인진 여성 오버핏 벨트로고 다운점...\n",
      "56 캘빈클라인진 남성 덕 다운 푸퍼 점퍼 J318...\n",
      "57 지오다노 여 브러시드 터틀넥 긴팔티 05 05...\n",
      "58 스튜디오톰보이 18겨울 후드 롱 다운 91084...\n",
      "59 오조이 울 30% 플리츠 모직 롱 밴딩 스커트\n",
      "60 아디다스 3ST 롱 코트 GF0070 GP2921\n",
      "61 나이키 남성 클럽 조거팬츠 BB BV2671-010\n",
      "62 휠라 에이스 롱다운 FS2DJB4003X\n",
      "63 폴로랄프로렌 여성 크루넥 코튼 케이블 니트\n",
      "64 나이키 NSW 롱다운 필 윈드러너 후디 자켓 ...\n",
      "65 루나코어스 파스텔 양모 하프코트\n",
      "66 지컷 G-CUT 20F W 페미닌 롱 다운점퍼 7250...\n",
      "67 온앤온 폭스퍼 퀼팅 롱 덕다운 NP9WH059\n",
      "68 마른파이브 히트터치 발열내의 기모 겨울 성...\n",
      "69 지오다노 여 크루넥 경량 다운 숏자켓 3799...\n",
      "70 온앤온 페이크퍼 숏패딩 점퍼 JP0WM516\n",
      "71 LANG&LU 팬시얀 케이블 니트 풀오버 3종\n",
      "72 클래식 순면 잠옷세트 커플 파자마 신혼부부\n",
      "73 뉴발란스 여성 연아 코쿤핏 구스 롱다운  N...\n",
      "74 로엠 여성형 다운 패딩 RMJDA4V01A\n",
      "75 온앤온 허리벨트 포인트 폭스퍼 후드 구스다...\n",
      "76 케네스레이디 메모리즈 구스패딩 EGDHJK990...\n",
      "77 내셔널지오그래픽 바이슨 RDS 덕 다운 숏패...\n",
      "78 라인 N642 포스티 폭스퍼 구스다운 하프 패...\n",
      "79 로엠 폭스퍼 숏 다운패딩 RMJDA4T01A\n",
      "80 국산 남녀 히트텍대체 히트택 기모 발열내의...\n",
      "81 폴로랄프로렌 여성 New 브이넥 케이블 면니...\n",
      "82 뉴발란스 액티브 구스 롱다운 롱패딩 NBNP9...\n",
      "83 융기모 부츠컷 팬츠 75548\n",
      "84 1+1 쫀쫀 부들부들 베이직 슬림 폴라티 기모\n",
      "85 수비진 융기모 허리밴딩 보이핏진 SP970\n",
      "86 MLB 남여공용 숏패딩 다운 점퍼\n",
      "87 면팬티 하고 모달팬티 노라인 하성민기업\n",
      "88 뉴발란스 여성 연아 벨핏 푸퍼 다운 NBNP84...\n",
      "89 휠라 뉴라이트2.0 롱다운 FS2DJC4002X\n",
      "90 겨울 기모 밴딩 세미 트레이닝팬츠 따듯한 ...\n",
      "91 레노마레이디스 호바트 슬림 라인 폭스 퍼 ...\n",
      "92 20FW 유니지 사가폭스 후드 양모 하프코트\n",
      "93 수면잠옷세트 홈웨어 극세사 수면바지 여성...\n",
      "94 내셔널지오그래픽 머렌서스 롱 구스 다운 점...\n",
      "95 탑텐 남성 온에어 모달코튼 10부 타이즈 MS...\n",
      "96 몽클레르 20FW 클루니 남성 패딩 CLUNY 091...\n",
      "97 아디다스 익스플로릭 벤치 코트 롱패딩 FJ9...\n",
      "98 나이키 클럽 플리스 오픈햄 남자 기모 트레...\n",
      "99 게스 여성 블루종플리스 RK3W08G1\n",
      "100 폴로랄프로렌 여성 코튼 브이넥 케이블 꽈배...\n"
     ]
    }
   ],
   "source": [
    "import requests\n",
    "from bs4 import BeautifulSoup\n",
    "\n",
    "res =requests.get('https://search.shopping.naver.com/best100v2/detail.nhn?catId=50000000')\n",
    "soup = BeautifulSoup(res.content,'html.parser')\n",
    "data = soup.select('#productListArea > ul > li > p > a')\n",
    "for index, item in enumerate(data):\n",
    "    print(index+1,item.get_text())\n"
   ]
  },
  {
   "cell_type": "code",
   "execution_count": 17,
   "metadata": {},
   "outputs": [
    {
     "name": "stdout",
     "output_type": "stream",
     "text": [
      "1 지수이름: 다우산업 현재지수: 30,179.05 하락\n",
      "2 지수이름: 나스닥 현재지수: 12,755.64 하락\n",
      "3 지수이름: 홍콩H 현재지수: 10,483.34 하락\n",
      "4 지수이름: 상해종합 현재지수: 3,394.90 하락\n",
      "5 지수이름: 니케이225 현재지수: 26,763.39 하락\n"
     ]
    }
   ],
   "source": [
    "import requests\n",
    "from bs4 import BeautifulSoup\n",
    "\n",
    "res =requests.get('https://finance.naver.com/sise/')\n",
    "soup = BeautifulSoup(res.content,'html.parser')\n",
    "data = soup.select('div.rgt > ul.lst_major > li')\n",
    "\n",
    "for index, item in enumerate(data):\n",
    "    print(index+1,\"지수이름:\",item.find('a').get_text().strip(),\"현재지수:\",item.find('span').get_text(),item.find('em').get_text())"
   ]
  },
  {
   "cell_type": "code",
   "execution_count": 21,
   "metadata": {},
   "outputs": [
    {
     "name": "stdout",
     "output_type": "stream",
     "text": [
      "Collecting dload\n",
      "  Downloading dload-0.6-py3-none-any.whl (8.1 kB)\n",
      "Requirement already satisfied: requests>=2.11.1 in /opt/anaconda3/lib/python3.8/site-packages (from dload) (2.24.0)\n",
      "Requirement already satisfied: idna<3,>=2.5 in /opt/anaconda3/lib/python3.8/site-packages (from requests>=2.11.1->dload) (2.10)\n",
      "Requirement already satisfied: chardet<4,>=3.0.2 in /opt/anaconda3/lib/python3.8/site-packages (from requests>=2.11.1->dload) (3.0.4)\n",
      "Requirement already satisfied: urllib3!=1.25.0,!=1.25.1,<1.26,>=1.21.1 in /opt/anaconda3/lib/python3.8/site-packages (from requests>=2.11.1->dload) (1.25.9)\n",
      "Requirement already satisfied: certifi>=2017.4.17 in /opt/anaconda3/lib/python3.8/site-packages (from requests>=2.11.1->dload) (2020.6.20)\n",
      "Installing collected packages: dload\n",
      "Successfully installed dload-0.6\n",
      "Note: you may need to restart the kernel to use updated packages.\n"
     ]
    }
   ],
   "source": [
    "pip install dload"
   ]
  },
  {
   "cell_type": "code",
   "execution_count": null,
   "metadata": {},
   "outputs": [],
   "source": []
  }
 ],
 "metadata": {
  "kernelspec": {
   "display_name": "Python 3",
   "language": "python",
   "name": "python3"
  },
  "language_info": {
   "codemirror_mode": {
    "name": "ipython",
    "version": 3
   },
   "file_extension": ".py",
   "mimetype": "text/x-python",
   "name": "python",
   "nbconvert_exporter": "python",
   "pygments_lexer": "ipython3",
   "version": "3.8.3"
  }
 },
 "nbformat": 4,
 "nbformat_minor": 4
}

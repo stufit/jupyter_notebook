{
 "cells": [
  {
   "cell_type": "markdown",
   "metadata": {},
   "source": [
    "## Crawling & Crawing"
   ]
  },
  {
   "cell_type": "markdown",
   "metadata": {},
   "source": [
    "### 1. 실전 예제: 크롤링\n",
    "* 이커머스(지마켓) 베스트100 상품 타이틀/가격 추출하기"
   ]
  },
  {
   "cell_type": "code",
   "execution_count": null,
   "metadata": {},
   "outputs": [],
   "source": [
    "import requests\n",
    "from bs4 import BeautifulSoup\n",
    "\n",
    "res = requests.get('http://corners.gmarket.co.kr/Bestsellers?viewType=G&groupCode=G06')\n",
    "soup = BeautifulSoup(res.content, 'html.parser')\n",
    "bestlists = soup.select('div.best-list')\n",
    "bestitems = bestlists[1]\n",
    "products = bestitems.select('ul > li')\n",
    "\n",
    "for index, product in enumerate(products):\n",
    "    title = product.select_one('a.itemname')\n",
    "    price = product.select_one('div.s-price > strong')\n",
    "    print (title.get_text(), price.get_text(), title['href'])"
   ]
  },
  {
   "cell_type": "markdown",
   "metadata": {},
   "source": [
    "### 2. 실전 예제: 크롤링 & 크롤링\n",
    "* 이커머스(지마켓) 베스트100 상품 타이틀/가격, 그리고 판매업체 추출하기"
   ]
  },
  {
   "cell_type": "code",
   "execution_count": null,
   "metadata": {},
   "outputs": [],
   "source": [
    "import requests\n",
    "from bs4 import BeautifulSoup\n",
    "\n",
    "res = requests.get('http://corners.gmarket.co.kr/Bestsellers?viewType=G&groupCode=G06')\n",
    "soup = BeautifulSoup(res.content, 'html.parser')\n",
    "bestlists = soup.select('div.best-list')\n",
    "bestitems = bestlists[1]\n",
    "products = bestitems.select('ul > li')\n",
    "\n",
    "for index, product in enumerate(products):\n",
    "    title = product.select_one('a.itemname')\n",
    "    price = product.select_one('div.s-price > strong')\n",
    "    res_info = requests.get(title['href'])\n",
    "    soup_info = BeautifulSoup(res_info.content, 'html.parser')\n",
    "    provider_info = soup_info.select_one('div.item-topinfo > div.item-topinfo_headline > p > a > strong')\n",
    "    print (title.get_text(), price.get_text(), title['href'], provider_info.get_text())"
   ]
  },
  {
   "cell_type": "markdown",
   "metadata": {},
   "source": [
    "### 3. 실전 예제: 크롤링 & 크롤링 + 엑셀\n",
    "* 이커머스(지마켓) 베스트100 상품 타이틀/가격, 그리고 판매업체 추출하기"
   ]
  },
  {
   "cell_type": "code",
   "execution_count": null,
   "metadata": {},
   "outputs": [],
   "source": [
    "import requests, openpyxl\n",
    "from bs4 import BeautifulSoup\n",
    "\n",
    "excel_file = openpyxl.Workbook()\n",
    "excel_sheet = excel_file.active\n",
    "excel_sheet.append(['랭킹', '상품명', '판매가격', '상품상세링크', '판매업체'])\n",
    "excel_sheet.column_dimensions['B'].width = 80\n",
    "excel_sheet.column_dimensions['C'].width = 20\n",
    "excel_sheet.column_dimensions['D'].width = 80\n",
    "excel_sheet.column_dimensions['E'].width = 20\n",
    "\n",
    "res = requests.get('http://corners.gmarket.co.kr/Bestsellers?viewType=G&groupCode=G06')\n",
    "soup = BeautifulSoup(res.content, 'html.parser')\n",
    "\n",
    "bestlists = soup.select('div.best-list')\n",
    "bestitems = bestlists[1]\n",
    "products = bestitems.select('ul > li')\n",
    "\n",
    "for index, product in enumerate(products):\n",
    "    title = product.select_one('a.itemname')\n",
    "    price = product.select_one('div.s-price > strong')\n",
    "    \n",
    "    res_info = requests.get(title['href'])\n",
    "    soup_info = BeautifulSoup(res_info.content, 'html.parser')\n",
    "    provider_info = soup_info.select_one('div.item-topinfo > div.item-topinfo_headline > p > a > strong')\n",
    "    print(index + 1, title.get_text(), price.get_text(), title['href'], provider_info.get_text())\n",
    "    excel_sheet.append([index + 1, title.get_text(), price.get_text(), title['href'], provider_info.get_text()])\n",
    "    excel_sheet.cell(row=index+2 , column=4).hyperlink = title['href']\n",
    "\n",
    "\n",
    "cell_A1 = excel_sheet['A1'] # 셀 선택하기\n",
    "cell_A1.alignment = openpyxl.styles.Alignment(horizontal='center') # 중앙정렬하기\n",
    "cell_A1.font = openpyxl.styles.Font(color=\"01579B\") # 폰트 색깔 바꾸기\n",
    "# 색상값 찾기: https://material.io/design/color/#tools-for-picking-colors\n",
    "\n",
    "cell_B1 = excel_sheet['B1'] # 셀 선택하기\n",
    "cell_B1.alignment = openpyxl.styles.Alignment(horizontal='center') # 중앙정렬하기\n",
    "cell_B1.font = openpyxl.styles.Font(color=\"01579B\") # 폰트 색깔 바꾸기\n",
    "# 색상값 찾기: https://material.io/design/color/#tools-for-picking-colors\n",
    "\n",
    "cell_C1 = excel_sheet['C1'] # 셀 선택하기\n",
    "cell_C1.alignment = openpyxl.styles.Alignment(horizontal='center') # 중앙정렬하기\n",
    "cell_C1.font = openpyxl.styles.Font(color=\"01579B\") # 폰트 색깔 바꾸기\n",
    "# 색상값 찾기: https://material.io/design/color/#tools-for-picking-colors\n",
    "\n",
    "cell_D1 = excel_sheet['D1'] # 셀 선택하기\n",
    "cell_D1.alignment = openpyxl.styles.Alignment(horizontal='center') # 중앙정렬하기\n",
    "cell_D1.font = openpyxl.styles.Font(color=\"01579B\") # 폰트 색깔 바꾸기\n",
    "# 색상값 찾기: https://material.io/design/color/#tools-for-picking-colors\n",
    "\n",
    "cell_E1 = excel_sheet['E1'] # 셀 선택하기\n",
    "cell_E1.alignment = openpyxl.styles.Alignment(horizontal='center') # 중앙정렬하기\n",
    "cell_E1.font = openpyxl.styles.Font(color=\"01579B\") # 폰트 색깔 바꾸기\n",
    "# 색상값 찾기: https://material.io/design/color/#tools-for-picking-colors\n",
    "\n",
    "excel_file.save('BESTPRODUCT_COM_GMARKET.xlsx')\n",
    "excel_file.close()"
   ]
  },
  {
   "cell_type": "code",
   "execution_count": null,
   "metadata": {},
   "outputs": [],
   "source": []
  }
 ],
 "metadata": {
  "kernelspec": {
   "display_name": "Python 3",
   "language": "python",
   "name": "python3"
  },
  "language_info": {
   "codemirror_mode": {
    "name": "ipython",
    "version": 3
   },
   "file_extension": ".py",
   "mimetype": "text/x-python",
   "name": "python",
   "nbconvert_exporter": "python",
   "pygments_lexer": "ipython3",
   "version": "3.7.7"
  }
 },
 "nbformat": 4,
 "nbformat_minor": 2
}
